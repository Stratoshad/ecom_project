{
 "cells": [
  {
   "cell_type": "markdown",
   "metadata": {
    "toc": true
   },
   "source": [
    "<h1>Table of Contents<span class=\"tocSkip\"></span></h1>\n",
    "<div class=\"toc\"><ul class=\"toc-item\"><li><span><a href=\"#Introduction\" data-toc-modified-id=\"Introduction-1\"><span class=\"toc-item-num\">1&nbsp;&nbsp;</span>Introduction</a></span><ul class=\"toc-item\"><li><span><a href=\"#Notebook-Introduction\" data-toc-modified-id=\"Notebook-Introduction-1.1\"><span class=\"toc-item-num\">1.1&nbsp;&nbsp;</span>Notebook Introduction</a></span></li></ul></li></ul></div>"
   ]
  },
  {
   "cell_type": "markdown",
   "metadata": {},
   "source": [
    "# E-Commerce \n",
    "\n",
    "**Notebook 4 - Customer Attrition Prevention**\n",
    "\n",
    "This project will explore an E-commerce dataset of transactions from a UK registered online store. The dataset covers the period of 01/12/2010 - 09/12/2011. To access the dataset and read more about please refer to its [UCI repo](http://archive.ics.uci.edu/ml/datasets/Online+Retail).\n",
    "\n",
    "![alt text](imgs/ecom_back.png \"Title\")"
   ]
  },
  {
   "cell_type": "markdown",
   "metadata": {},
   "source": [
    "## Introduction"
   ]
  },
  {
   "cell_type": "markdown",
   "metadata": {},
   "source": [
    "This project will go through the following stages using this data. There is a separate notebook for each process.\n",
    "\n",
    "- NB1: Data loading & Data Cleaning\n",
    "- NB2: Exploratory Data Analysis (EDA)\n",
    "- NB3: Customer Segmentation\n",
    "- NB4: Attrition Prevention Strategies \n",
    "- NB5: Product Recommendation (WIP)\n",
    "\n",
    "This project is using the cookiecutter [data science template](https://github.com/drivendata/cookiecutter-data-science). More about this can be found [in this article](https://medium.com/@rrfd/cookiecutter-data-science-organize-your-projects-atom-and-jupyter-2be7862f487e)."
   ]
  },
  {
   "cell_type": "markdown",
   "metadata": {},
   "source": [
    "### Notebook Introduction\n",
    "\n",
    "Customer attrition or customer churn of a business is the loss of customers (sometimes rate of loss). Most retailers and ecommerce companies invest millions to on research and marketing campaigns to ensure the minimize customer churn. This notebook will look at a simple statistical approach of understanding the frequency by which our customers shop. The goals of this notebook are:\n",
    "\n",
    "1. Understand the frequency by which our customers make new purchase (i.e. time between orders) and come up with a nice way of summarizing it.\n",
    "\n",
    "\n",
    "2. Use the above summary to understand how we can \"track\" our customer activity / inactivity to find the \"optimal\" point to send an offer, loyalty scheme or any other promotion."
   ]
  },
  {
   "cell_type": "code",
   "execution_count": null,
   "metadata": {},
   "outputs": [],
   "source": [
    "df_sampl = df_cust_final[['customer_id', 'median']].copy()\n",
    "mean_list = []\n",
    "\n",
    "for i in tqdm(range(1000)):\n",
    "    \n",
    "    # take a sample\n",
    "    sample = df_sampl.sample(50)\n",
    "    mean = sample['median'].mean()\n",
    "    mean_list.append(mean)\n",
    "    \n",
    "df_means = pd.DataFrame({\"means\":mean_list})\n",
    "px.histogram(df_means)"
   ]
  }
 ],
 "metadata": {
  "kernelspec": {
   "display_name": "Python 3",
   "language": "python",
   "name": "python3"
  },
  "language_info": {
   "codemirror_mode": {
    "name": "ipython",
    "version": 3
   },
   "file_extension": ".py",
   "mimetype": "text/x-python",
   "name": "python",
   "nbconvert_exporter": "python",
   "pygments_lexer": "ipython3",
   "version": "3.8.3"
  },
  "toc": {
   "base_numbering": 1,
   "nav_menu": {},
   "number_sections": true,
   "sideBar": true,
   "skip_h1_title": true,
   "title_cell": "Table of Contents",
   "title_sidebar": "Contents",
   "toc_cell": true,
   "toc_position": {},
   "toc_section_display": true,
   "toc_window_display": true
  }
 },
 "nbformat": 4,
 "nbformat_minor": 4
}
